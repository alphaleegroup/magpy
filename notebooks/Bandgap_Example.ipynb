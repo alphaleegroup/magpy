{
 "cells": [
  {
   "cell_type": "markdown",
   "metadata": {},
   "source": [
    "<h1 align=\"center\">Investigating Bandgaps Using Machine Learning</h1>\n",
    "\n",
    "## Preparing the Dataset\n",
    "\n",
    "This dataset is provided in [Predicting the Band Gaps of Inorganic Solids by Machine Learning](http://dx.doi.org/10.1021/acs.jpclett.8b00124). Minimal processing has been carried out on the provided dataset to make it applicable for use in this example.\n",
    "\n",
    "Here we will look at both regression and binary classification and so we need supervised target values for both cases; with regression this is simply the bandgap of the material (in eV), for the classication case we can make a binary split in a straightforward manner as the conductors reported in the dataset are quoted with bandgaps of zero."
   ]
  },
  {
   "cell_type": "code",
   "execution_count": 4,
   "metadata": {
    "ExecuteTime": {
     "end_time": "2019-04-26T17:01:43.222146Z",
     "start_time": "2019-04-26T17:01:43.190678Z"
    }
   },
   "outputs": [
    {
     "name": "stdout",
     "output_type": "stream",
     "text": [
      "The total number of samples is 5116 of which 1980 are conductors and 3136 have bandgaps\n"
     ]
    }
   ],
   "source": [
    "import pandas as pd\n",
    "import numpy as np\n",
    "from sklearn.model_selection import train_test_split\n",
    "from sklearn.preprocessing import StandardScaler\n",
    "import matplotlib.pyplot as plt\n",
    "\n",
    "bandgap_dataset = pd.read_csv(\"bandgap-example.csv\")\n",
    "\n",
    "_, compositions, y_reg = bandgap_dataset.T.values\n",
    "\n",
    "y_clf = np.where(y_reg == 0, 0, 1)\n",
    "\n",
    "N = y_clf.shape[0]\n",
    "N_gap = y_clf.sum()\n",
    "N_cond = N - N_gap\n",
    "print(\"The total number of samples is {} of which {}\"\n",
    "      \" are conductors and {} have bandgaps\".format(N, N_cond, N_gap))"
   ]
  },
  {
   "cell_type": "markdown",
   "metadata": {},
   "source": [
    "Here we see that we have a dataset that is biased towards materials with bandgaps. This is left as something for further exploration.\n",
    "\n",
    "Now we will use `magpy` to get our features; we can use any of the matscholar, megnet, cgcnn, elem or elem_low embeddings in the notebook folder. "
   ]
  },
  {
   "cell_type": "code",
   "execution_count": 6,
   "metadata": {
    "ExecuteTime": {
     "end_time": "2019-04-26T17:02:05.427802Z",
     "start_time": "2019-04-26T17:02:04.013444Z"
    }
   },
   "outputs": [],
   "source": [
    "import magpy\n",
    "\n",
    "X = magpy.core.descriptors(compositions, embedding_file=\"elem_embedding.json\",\n",
    "                            operations = [\"wmean\", \"wstd\", \"max\", \"min\"])"
   ]
  },
  {
   "cell_type": "markdown",
   "metadata": {},
   "source": [
    "As we have installed `magpy` with an editable source (via -e flag) you can add further operations by editting the Statistics Class in core. Currently the availiable operations are: 'wmean', 'wstd', 'max', 'min', 'range', 'harmonic', 'geometric', and 'sum'.\n",
    "\n",
    "## Building a simple classifier\n",
    "\n",
    "Here we will build a simple classification model using a Support Vector Machine Classification as done in the reference paper. \n",
    "\n",
    "There are several housekeeping steps we need to undertake:\n",
    "\n",
    "1. Splitting the data into independent Training and Test sets.\n",
    "2. Scaling the input features in order to improve the optimisation performance\n",
    "\n",
    "The model is used as an out of the box implementation from the scikit-learn library where we just take the default values for the model hyper-parameters.\n",
    "\n",
    "The models performance can be examined using the ROC Curve as well as the Precision, Recall and F1 metrics. Note that we get two values for Precision, Recall and F1 metrics depending on whether we are using the model to pick out Metals or Non-Metals, the difference is related to the dataset bias."
   ]
  },
  {
   "cell_type": "code",
   "execution_count": 8,
   "metadata": {
    "ExecuteTime": {
     "end_time": "2019-04-26T17:03:23.259023Z",
     "start_time": "2019-04-26T17:02:56.848377Z"
    }
   },
   "outputs": [
    {
     "data": {
      "image/png": "[encoded data removed]",
      "text/plain": [
       "<Figure size 432x288 with 1 Axes>"
      ]
     },
     "metadata": {
      "needs_background": "light"
     },
     "output_type": "display_data"
    },
    {
     "name": "stdout",
     "output_type": "stream",
     "text": [
      "The ROC-AUC score is 0.9571431411135626 \n",
      "The Precision score is [0.90106952 0.88923077] \n",
      "The Recall score is [0.82396088 0.9398374 ] \n",
      "The F1 score is [0.86079183 0.91383399]\n"
     ]
    }
   ],
   "source": [
    "from sklearn.svm import SVC\n",
    "from sklearn.metrics import roc_curve, auc, precision_recall_fscore_support\n",
    "\n",
    "# Split data into training and test sets\n",
    "X_train, X_test, y_train, y_test = train_test_split(X, y_clf, test_size=0.2)\n",
    "\n",
    "# Scale the input features to improve\n",
    "scaler = StandardScaler().fit(X_train)\n",
    "X_train = scaler.transform(X_train) \n",
    "X_test = scaler.transform(X_test) \n",
    "\n",
    "# Define and fit the model\n",
    "clf = SVC(probability=True, gamma='scale').fit(X_train, y_train)\n",
    "\n",
    "# Make predictions on the test set\n",
    "y_pred = clf.predict(X_test)\n",
    "y_pred_prob = clf.predict_proba(X_test)[:,1]\n",
    "\n",
    "# Evaluate the performance vs target values\n",
    "fpr, tpr, _ = roc_curve(y_test, y_pred_prob)\n",
    "auc_ = auc(fpr, tpr)\n",
    "pre, re, f1, sup = precision_recall_fscore_support(y_test, y_pred)\n",
    "\n",
    "plt.figure()\n",
    "plt.plot([0, 1], [0, 1], 'k--')\n",
    "plt.plot(fpr, tpr)\n",
    "plt.xlabel('False positive rate')\n",
    "plt.ylabel('True positive rate')\n",
    "plt.title('ROC curve')\n",
    "plt.show()\n",
    "\n",
    "print(\"The ROC-AUC score is {} \\n\"\n",
    "      \"The Precision score is {} \\n\"\n",
    "      \"The Recall score is {} \\n\"\n",
    "      \"The F1 score is {}\".format(auc_, pre,re,f1))"
   ]
  }
 ],
 "metadata": {
  "kernelspec": {
   "display_name": "Python 3",
   "language": "python",
   "name": "python3"
  },
  "language_info": {
   "codemirror_mode": {
    "name": "ipython",
    "version": 3
   },
   "file_extension": ".py",
   "mimetype": "text/x-python",
   "name": "python",
   "nbconvert_exporter": "python",
   "pygments_lexer": "ipython3",
   "version": "3.6.8"
  }
 },
 "nbformat": 4,
 "nbformat_minor": 2
}

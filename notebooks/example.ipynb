{
 "cells": [
  {
   "cell_type": "markdown",
   "metadata": {},
   "source": [
    "# Magpy\n",
    "## example usage of magpy to featurise some materials \n",
    "first we load magpy"
   ]
  },
  {
   "cell_type": "code",
   "execution_count": 1,
   "metadata": {
    "ExecuteTime": {
     "end_time": "2019-03-18T15:23:18.673769Z",
     "start_time": "2019-03-18T15:23:18.242766Z"
    }
   },
   "outputs": [],
   "source": [
    "import magpy"
   ]
  },
  {
   "cell_type": "markdown",
   "metadata": {},
   "source": [
    "Load the desired features to use for the descriptors"
   ]
  },
  {
   "cell_type": "code",
   "execution_count": 2,
   "metadata": {
    "ExecuteTime": {
     "end_time": "2019-03-18T15:23:20.358611Z",
     "start_time": "2019-03-18T15:23:20.350641Z"
    }
   },
   "outputs": [
    {
     "name": "stdout",
     "output_type": "stream",
     "text": [
      "['CovalentRadius', 'Polarizability', 'Electronegativity', 'ElectronAffinity', 'FirstIonizationEnergy']\n"
     ]
    }
   ],
   "source": [
    "feature_file = 'inputs/features.txt'\n",
    "features = magpy.utils.load_file(feature_file)\n",
    "print(features)"
   ]
  },
  {
   "cell_type": "markdown",
   "metadata": {},
   "source": [
    "Load the compositions to evaluate descriptors for"
   ]
  },
  {
   "cell_type": "code",
   "execution_count": 3,
   "metadata": {
    "ExecuteTime": {
     "end_time": "2019-03-18T15:23:21.725034Z",
     "start_time": "2019-03-18T15:23:21.716984Z"
    }
   },
   "outputs": [
    {
     "name": "stdout",
     "output_type": "stream",
     "text": [
      "['LaCuO4', 'K2MgO4', 'La1.85Sr0.1Y0.05Cu0.9Ca0.1O4', 'NaCl']\n"
     ]
    }
   ],
   "source": [
    "composition_file = 'inputs/compositions.txt'\n",
    "compositions = magpy.utils.load_file(composition_file)\n",
    "print(compositions)"
   ]
  },
  {
   "cell_type": "markdown",
   "metadata": {},
   "source": [
    "breakdown the composition strings into elements and weights"
   ]
  },
  {
   "cell_type": "code",
   "execution_count": 4,
   "metadata": {
    "ExecuteTime": {
     "end_time": "2019-03-18T15:23:22.819698Z",
     "start_time": "2019-03-18T15:23:22.810380Z"
    }
   },
   "outputs": [],
   "source": [
    "elements, weights = magpy.parse_input(compositions)"
   ]
  },
  {
   "cell_type": "markdown",
   "metadata": {},
   "source": [
    "lookup features for the given elements"
   ]
  },
  {
   "cell_type": "code",
   "execution_count": 5,
   "metadata": {
    "ExecuteTime": {
     "end_time": "2019-03-18T15:23:24.091981Z",
     "start_time": "2019-03-18T15:23:23.982018Z"
    },
    "scrolled": true
   },
   "outputs": [
    {
     "name": "stdout",
     "output_type": "stream",
     "text": [
      "/home/rhys/work/magpy/magpy/tables/CovalentRadius.csv\n",
      "/home/rhys/work/magpy/magpy/tables/Polarizability.csv\n",
      "/home/rhys/work/magpy/magpy/tables/Electronegativity.csv\n",
      "/home/rhys/work/magpy/magpy/tables/ElectronAffinity.csv\n",
      "/home/rhys/work/magpy/magpy/tables/FirstIonizationEnergy.csv\n",
      "/home/rhys/work/magpy/magpy/tables/CovalentRadius.csv\n",
      "/home/rhys/work/magpy/magpy/tables/Polarizability.csv\n",
      "/home/rhys/work/magpy/magpy/tables/Electronegativity.csv\n",
      "/home/rhys/work/magpy/magpy/tables/ElectronAffinity.csv\n",
      "/home/rhys/work/magpy/magpy/tables/FirstIonizationEnergy.csv\n",
      "/home/rhys/work/magpy/magpy/tables/CovalentRadius.csv\n",
      "/home/rhys/work/magpy/magpy/tables/Polarizability.csv\n",
      "/home/rhys/work/magpy/magpy/tables/Electronegativity.csv\n",
      "/home/rhys/work/magpy/magpy/tables/ElectronAffinity.csv\n",
      "/home/rhys/work/magpy/magpy/tables/FirstIonizationEnergy.csv\n",
      "/home/rhys/work/magpy/magpy/tables/CovalentRadius.csv\n",
      "/home/rhys/work/magpy/magpy/tables/Polarizability.csv\n",
      "/home/rhys/work/magpy/magpy/tables/Electronegativity.csv\n",
      "/home/rhys/work/magpy/magpy/tables/ElectronAffinity.csv\n",
      "/home/rhys/work/magpy/magpy/tables/FirstIonizationEnergy.csv\n",
      "    Element Weights CovalentRadius Polarizability Electronegativity  \\\n",
      "0 0      La       1          207.0           31.1               1.1   \n",
      "  1      Cu       1          132.0           6.15               1.9   \n",
      "  2       O       4           66.0          0.802              3.44   \n",
      "1 0       K       2          203.0          43.23              0.82   \n",
      "  1      Mg       1          141.0      10.766667              1.31   \n",
      "  2       O       4           66.0          0.802              3.44   \n",
      "2 0      La    1.85          207.0           31.1               1.1   \n",
      "  1      Sr     0.1          195.0          25.55              0.95   \n",
      "  2       Y    0.05          190.0           22.7              1.22   \n",
      "  3      Cu     0.9          132.0           6.15               1.9   \n",
      "  4      Ca     0.1          176.0      25.733333               1.0   \n",
      "  5       O       4           66.0          0.802              3.44   \n",
      "3 0      Na       1          166.0          24.11              0.93   \n",
      "  1      Cl       1          102.0           2.18              3.16   \n",
      "\n",
      "    ElectronAffinity FirstIonizationEnergy  \n",
      "0 0             48.0                5.5769  \n",
      "  1            118.4     7.726380000000002  \n",
      "  2            141.0              13.61805  \n",
      "1 0             48.4              4.340663  \n",
      "  1              0.0     7.646235000000001  \n",
      "  2            141.0              13.61805  \n",
      "2 0             48.0                5.5769  \n",
      "  1             5.03               5.69485  \n",
      "  2             29.6                6.2173  \n",
      "  3            118.4     7.726380000000002  \n",
      "  4             2.37               6.11316  \n",
      "  5            141.0              13.61805  \n",
      "3 0             52.8              5.139076  \n",
      "  1            349.0              12.96763   \n",
      "\n"
     ]
    }
   ],
   "source": [
    "df_list = magpy.look_up(elements, weights, features=features)\n",
    "df = magpy.utils.combine_dfs(df_list)\n",
    "print(df, '\\n')"
   ]
  },
  {
   "cell_type": "markdown",
   "metadata": {},
   "source": [
    "process the feature tables to get descriptors for each material"
   ]
  },
  {
   "cell_type": "code",
   "execution_count": 6,
   "metadata": {},
   "outputs": [
    {
     "name": "stdout",
     "output_type": "stream",
     "text": [
      "['wmean', 'wstd']\n",
      "    Statistics      CovalentRadius      Polarizability   Electronegativity  \\\n",
      "0 0      wmean               100.5   6.742999999999999   2.793333333333333   \n",
      "  1       wstd   53.37836640437772  11.066443436503588  0.9432332102342923   \n",
      "1 0      wmean  115.85714285714286   14.34780957142857  2.3871428571428575   \n",
      "  1       wstd   60.66636764522256  18.574722677426237  1.2251030777124055   \n",
      "2 0      wmean              116.05  10.363047614285716  2.5372857142857144   \n",
      "  1       wstd   61.88483832317666   13.26363162796901  1.0705031145995545   \n",
      "3 0      wmean               134.0              13.145               2.045   \n",
      "  1       wstd                32.0              10.965               1.115   \n",
      "\n",
      "       ElectronAffinity FirstIonizationEnergy  \n",
      "0 0  121.73333333333333    11.295913333333333  \n",
      "  1   33.99150220602529    3.3421040408534393  \n",
      "1 0   94.39999999999999    10.114251571428571  \n",
      "  1  55.843659315219355     4.172463634924057  \n",
      "2 0  108.79714285714286    10.462124714285713  \n",
      "  1  44.065334160696864    3.6992532427291405  \n",
      "3 0               200.9              9.053353  \n",
      "  1               148.1              3.914277   \n",
      "\n"
     ]
    }
   ],
   "source": [
    "descriptor_file = 'inputs/descriptors.txt'\n",
    "descriptors = magpy.utils.load_file(descriptor_file)\n",
    "print(descriptors)\n",
    "\n",
    "stats_list = magpy.get_descriptors(df_list, features=features, descriptors=descriptors)\n",
    "stats = magpy.utils.combine_dfs(stats_list)\n",
    "print(stats, '\\n')"
   ]
  }
 ],
 "metadata": {
  "kernelspec": {
   "display_name": "Python 3",
   "language": "python",
   "name": "python3"
  },
  "language_info": {
   "codemirror_mode": {
    "name": "ipython",
    "version": 3
   },
   "file_extension": ".py",
   "mimetype": "text/x-python",
   "name": "python",
   "nbconvert_exporter": "python",
   "pygments_lexer": "ipython3",
   "version": "3.6.8"
  },
  "toc": {
   "base_numbering": 1,
   "nav_menu": {},
   "number_sections": true,
   "sideBar": true,
   "skip_h1_title": false,
   "title_cell": "Table of Contents",
   "title_sidebar": "Contents",
   "toc_cell": false,
   "toc_position": {},
   "toc_section_display": true,
   "toc_window_display": false
  }
 },
 "nbformat": 4,
 "nbformat_minor": 2
}

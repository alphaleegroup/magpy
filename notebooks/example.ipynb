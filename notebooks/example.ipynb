{
 "cells": [
  {
   "cell_type": "markdown",
   "metadata": {},
   "source": [
    "# Notebook showing an example usage of magpy to featurise some materials "
   ]
  },
  {
   "cell_type": "code",
   "execution_count": 19,
   "metadata": {},
   "outputs": [],
   "source": [
    "import magpy"
   ]
  },
  {
   "cell_type": "markdown",
   "metadata": {},
   "source": [
    "Load the desired features to use for the descriptors"
   ]
  },
  {
   "cell_type": "code",
   "execution_count": 20,
   "metadata": {},
   "outputs": [
    {
     "name": "stdout",
     "output_type": "stream",
     "text": [
      "['CovalentRadius', 'Polarizability', 'Electronegativity', 'ElectronAffinity', 'FirstIonizationEnergy']\n"
     ]
    }
   ],
   "source": [
    "feature_file = 'inputs/features.txt'\n",
    "features = magpy.load_file(feature_file)\n",
    "print(features)"
   ]
  },
  {
   "cell_type": "markdown",
   "metadata": {},
   "source": [
    "Load the compositions to evaluate descriptors for"
   ]
  },
  {
   "cell_type": "code",
   "execution_count": 21,
   "metadata": {},
   "outputs": [
    {
     "name": "stdout",
     "output_type": "stream",
     "text": [
      "['LaCuO4', 'K2MgO4', 'La1.85Sr0.1Y0.05Cu0.9Ca0.1O4', 'NaCl']\n"
     ]
    }
   ],
   "source": [
    "composition_file = 'inputs/compositions.txt'\n",
    "compositions = magpy.load_file(composition_file)\n",
    "print(compositions)"
   ]
  },
  {
   "cell_type": "markdown",
   "metadata": {},
   "source": [
    "breakdown the composition strings into elements and weights"
   ]
  },
  {
   "cell_type": "code",
   "execution_count": 22,
   "metadata": {},
   "outputs": [],
   "source": [
    "elements, weights = magpy.parse_input(compositions)"
   ]
  },
  {
   "cell_type": "markdown",
   "metadata": {},
   "source": [
    "lookup features for the given elements"
   ]
  },
  {
   "cell_type": "code",
   "execution_count": 23,
   "metadata": {
    "scrolled": true
   },
   "outputs": [
    {
     "name": "stdout",
     "output_type": "stream",
     "text": [
      "    Element Weights CovalentRadius Polarizability Electronegativity  \\\n",
      "0 0      La       1     207.000000      31.100000          1.100000   \n",
      "  1      Cu       1     132.000000       6.150000          1.900000   \n",
      "  2       O       4      66.000000       0.802000          3.440000   \n",
      "1 0       K       2     203.000000      43.230000          0.820000   \n",
      "  1      Mg       1     141.000000      10.766667          1.310000   \n",
      "  2       O       4      66.000000       0.802000          3.440000   \n",
      "2 0      La    1.85     207.000000      31.100000          1.100000   \n",
      "  1      Sr     0.1     195.000000      25.550000          0.950000   \n",
      "  2       Y    0.05     190.000000      22.700000          1.220000   \n",
      "  3      Cu     0.9     132.000000       6.150000          1.900000   \n",
      "  4      Ca     0.1     176.000000      25.733333          1.000000   \n",
      "  5       O       4      66.000000       0.802000          3.440000   \n",
      "3 0      Na       1     166.000000      24.110000          0.930000   \n",
      "  1      Cl       1     102.000000       2.180000          3.160000   \n",
      "\n",
      "    ElectronAffinity FirstIonizationEnergy  \n",
      "0 0        48.000000              5.576900  \n",
      "  1       118.400000              7.726380  \n",
      "  2       141.000000             13.618050  \n",
      "1 0        48.400000              4.340663  \n",
      "  1         0.000000              7.646235  \n",
      "  2       141.000000             13.618050  \n",
      "2 0        48.000000              5.576900  \n",
      "  1         5.030000              5.694850  \n",
      "  2        29.600000              6.217300  \n",
      "  3       118.400000              7.726380  \n",
      "  4         2.370000              6.113160  \n",
      "  5       141.000000             13.618050  \n",
      "3 0        52.800000              5.139076  \n",
      "  1       349.000000             12.967630   \n",
      "\n"
     ]
    }
   ],
   "source": [
    "df_list = magpy.look_up(elements, weights, features=features)\n",
    "df = magpy.combine_dfs(df_list)\n",
    "print(df, '\\n')"
   ]
  },
  {
   "cell_type": "markdown",
   "metadata": {},
   "source": [
    "process the feature tables to get descriptors for each material"
   ]
  },
  {
   "cell_type": "code",
   "execution_count": 24,
   "metadata": {},
   "outputs": [
    {
     "name": "stdout",
     "output_type": "stream",
     "text": [
      "    Statistics      CovalentRadius      Polarizability   Electronegativity  \\\n",
      "0 0      wmean               100.5   6.742999999999999   2.793333333333333   \n",
      "  1       wstd   53.37836640437772  11.066443436503588  0.9432332102342923   \n",
      "1 0      wmean  115.85714285714286   14.34780957142857  2.3871428571428575   \n",
      "  1       wstd   60.66636764522256  18.574722677426237  1.2251030777124055   \n",
      "2 0      wmean              116.05  10.363047614285716  2.5372857142857144   \n",
      "  1       wstd   61.88483832317666   13.26363162796901  1.0705031145995545   \n",
      "3 0      wmean               134.0              13.145               2.045   \n",
      "  1       wstd                32.0              10.965               1.115   \n",
      "\n",
      "       ElectronAffinity FirstIonizationEnergy  \n",
      "0 0  121.73333333333333    11.295913333333333  \n",
      "  1   33.99150220602529    3.3421040408534393  \n",
      "1 0   94.39999999999999    10.114251571428571  \n",
      "  1  55.843659315219355     4.172463634924057  \n",
      "2 0  108.79714285714286    10.462124714285713  \n",
      "  1  44.065334160696864    3.6992532427291405  \n",
      "3 0               200.9              9.053353  \n",
      "  1               148.1              3.914277   \n",
      "\n"
     ]
    }
   ],
   "source": [
    "stats_list = magpy.get_descriptors(df_list, features=features, descriptors=descriptors)\n",
    "stats = magpy.combine_dfs(stats_list)\n",
    "print(stats, '\\n')"
   ]
  },
  {
   "cell_type": "code",
   "execution_count": null,
   "metadata": {},
   "outputs": [],
   "source": []
  }
 ],
 "metadata": {
  "kernelspec": {
   "display_name": "Python 3",
   "language": "python",
   "name": "python3"
  },
  "language_info": {
   "codemirror_mode": {
    "name": "ipython",
    "version": 3
   },
   "file_extension": ".py",
   "mimetype": "text/x-python",
   "name": "python",
   "nbconvert_exporter": "python",
   "pygments_lexer": "ipython3",
   "version": "3.6.8"
  }
 },
 "nbformat": 4,
 "nbformat_minor": 2
}

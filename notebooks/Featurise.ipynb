{
 "cells": [
  {
   "cell_type": "markdown",
   "metadata": {},
   "source": [
    "# Example usage of Magpy\n",
    "\n"
   ]
  },
  {
   "cell_type": "code",
   "execution_count": 1,
   "metadata": {
    "ExecuteTime": {
     "end_time": "2019-04-25T20:04:36.415868Z",
     "start_time": "2019-04-25T20:04:36.327017Z"
    }
   },
   "outputs": [
    {
     "name": "stdout",
     "output_type": "stream",
     "text": [
      "['La', 'Cu', 'O'] [2.0, 1.0, 4.0]\n",
      "['Na', 'Cl'] [1.0, 1.0]\n",
      "['H', 'O'] [2.0, 1.0]\n",
      "(3, 272)\n"
     ]
    }
   ],
   "source": [
    "import magpy\n",
    "\n",
    "compositions = ['La2CuO4', 'NaCl', 'H2O']\n",
    "\n",
    "data = magpy.core.descriptors(compositions, embedding_file=\"elem_embedding.json\")\n",
    "\n",
    "print(data.shape)"
   ]
  },
  {
   "cell_type": "code",
   "execution_count": null,
   "metadata": {},
   "outputs": [],
   "source": []
  }
 ],
 "metadata": {
  "kernelspec": {
   "display_name": "Python 3",
   "language": "python",
   "name": "python3"
  },
  "language_info": {
   "codemirror_mode": {
    "name": "ipython",
    "version": 3
   },
   "file_extension": ".py",
   "mimetype": "text/x-python",
   "name": "python",
   "nbconvert_exporter": "python",
   "pygments_lexer": "ipython3",
   "version": "3.6.8"
  }
 },
 "nbformat": 4,
 "nbformat_minor": 2
}
